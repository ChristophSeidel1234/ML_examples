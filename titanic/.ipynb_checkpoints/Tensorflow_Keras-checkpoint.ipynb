{
 "cells": [
  {
   "cell_type": "markdown",
   "id": "d257db6c-8d1b-4c66-8f66-ef958051ced7",
   "metadata": {},
   "source": [
    "# Artificial neural network"
   ]
  },
  {
   "cell_type": "markdown",
   "id": "a13fdef0-b490-4dd0-8123-dfbf0f28ae04",
   "metadata": {},
   "source": [
    "#### Imports"
   ]
  },
  {
   "cell_type": "code",
   "execution_count": 1,
   "id": "435aaef1-2ec0-4500-8b3b-c356e9ab1b40",
   "metadata": {},
   "outputs": [],
   "source": [
    "import pandas as pd\n",
    "from sklearn.preprocessing import StandardScaler\n",
    "from sklearn.model_selection import train_test_split\n",
    "from tensorflow.keras.layers import Dense\n",
    "from tensorflow.keras.models import Sequential"
   ]
  },
  {
   "cell_type": "markdown",
   "id": "ca15b12a-e3e0-460e-b3d7-40c98815a264",
   "metadata": {},
   "source": [
    "#### Load the data"
   ]
  },
  {
   "cell_type": "code",
   "execution_count": 2,
   "id": "e2048e4e-61ac-4c07-8bf3-a7e5dd519dd8",
   "metadata": {},
   "outputs": [],
   "source": [
    "df = pd.read_csv(\"train.csv\")"
   ]
  },
  {
   "cell_type": "markdown",
   "id": "a1fefd32-620f-47a8-94e9-2a2d5fc06bc7",
   "metadata": {},
   "source": [
    "#### Preprocess the data"
   ]
  },
  {
   "cell_type": "code",
   "execution_count": 3,
   "id": "0ac336aa-70c7-4d4b-89c5-3a946bcdc397",
   "metadata": {},
   "outputs": [
    {
     "data": {
      "text/html": [
       "<div>\n",
       "<style scoped>\n",
       "    .dataframe tbody tr th:only-of-type {\n",
       "        vertical-align: middle;\n",
       "    }\n",
       "\n",
       "    .dataframe tbody tr th {\n",
       "        vertical-align: top;\n",
       "    }\n",
       "\n",
       "    .dataframe thead th {\n",
       "        text-align: right;\n",
       "    }\n",
       "</style>\n",
       "<table border=\"1\" class=\"dataframe\">\n",
       "  <thead>\n",
       "    <tr style=\"text-align: right;\">\n",
       "      <th></th>\n",
       "      <th>PassengerId</th>\n",
       "      <th>Survived</th>\n",
       "      <th>Age</th>\n",
       "      <th>SibSp</th>\n",
       "      <th>Parch</th>\n",
       "      <th>Fare</th>\n",
       "      <th>Pclass_2</th>\n",
       "      <th>Pclass_3</th>\n",
       "      <th>Embarked_Q</th>\n",
       "      <th>Embarked_S</th>\n",
       "      <th>Sex_male</th>\n",
       "    </tr>\n",
       "  </thead>\n",
       "  <tbody>\n",
       "    <tr>\n",
       "      <th>0</th>\n",
       "      <td>1</td>\n",
       "      <td>0</td>\n",
       "      <td>22.000000</td>\n",
       "      <td>1</td>\n",
       "      <td>0</td>\n",
       "      <td>7.2500</td>\n",
       "      <td>0</td>\n",
       "      <td>1</td>\n",
       "      <td>0</td>\n",
       "      <td>1</td>\n",
       "      <td>1</td>\n",
       "    </tr>\n",
       "    <tr>\n",
       "      <th>1</th>\n",
       "      <td>2</td>\n",
       "      <td>1</td>\n",
       "      <td>38.000000</td>\n",
       "      <td>1</td>\n",
       "      <td>0</td>\n",
       "      <td>71.2833</td>\n",
       "      <td>0</td>\n",
       "      <td>0</td>\n",
       "      <td>0</td>\n",
       "      <td>0</td>\n",
       "      <td>0</td>\n",
       "    </tr>\n",
       "    <tr>\n",
       "      <th>2</th>\n",
       "      <td>3</td>\n",
       "      <td>1</td>\n",
       "      <td>26.000000</td>\n",
       "      <td>0</td>\n",
       "      <td>0</td>\n",
       "      <td>7.9250</td>\n",
       "      <td>0</td>\n",
       "      <td>1</td>\n",
       "      <td>0</td>\n",
       "      <td>1</td>\n",
       "      <td>0</td>\n",
       "    </tr>\n",
       "    <tr>\n",
       "      <th>3</th>\n",
       "      <td>4</td>\n",
       "      <td>1</td>\n",
       "      <td>35.000000</td>\n",
       "      <td>1</td>\n",
       "      <td>0</td>\n",
       "      <td>53.1000</td>\n",
       "      <td>0</td>\n",
       "      <td>0</td>\n",
       "      <td>0</td>\n",
       "      <td>1</td>\n",
       "      <td>0</td>\n",
       "    </tr>\n",
       "    <tr>\n",
       "      <th>4</th>\n",
       "      <td>5</td>\n",
       "      <td>0</td>\n",
       "      <td>35.000000</td>\n",
       "      <td>0</td>\n",
       "      <td>0</td>\n",
       "      <td>8.0500</td>\n",
       "      <td>0</td>\n",
       "      <td>1</td>\n",
       "      <td>0</td>\n",
       "      <td>1</td>\n",
       "      <td>1</td>\n",
       "    </tr>\n",
       "    <tr>\n",
       "      <th>...</th>\n",
       "      <td>...</td>\n",
       "      <td>...</td>\n",
       "      <td>...</td>\n",
       "      <td>...</td>\n",
       "      <td>...</td>\n",
       "      <td>...</td>\n",
       "      <td>...</td>\n",
       "      <td>...</td>\n",
       "      <td>...</td>\n",
       "      <td>...</td>\n",
       "      <td>...</td>\n",
       "    </tr>\n",
       "    <tr>\n",
       "      <th>886</th>\n",
       "      <td>887</td>\n",
       "      <td>0</td>\n",
       "      <td>27.000000</td>\n",
       "      <td>0</td>\n",
       "      <td>0</td>\n",
       "      <td>13.0000</td>\n",
       "      <td>1</td>\n",
       "      <td>0</td>\n",
       "      <td>0</td>\n",
       "      <td>1</td>\n",
       "      <td>1</td>\n",
       "    </tr>\n",
       "    <tr>\n",
       "      <th>887</th>\n",
       "      <td>888</td>\n",
       "      <td>1</td>\n",
       "      <td>19.000000</td>\n",
       "      <td>0</td>\n",
       "      <td>0</td>\n",
       "      <td>30.0000</td>\n",
       "      <td>0</td>\n",
       "      <td>0</td>\n",
       "      <td>0</td>\n",
       "      <td>1</td>\n",
       "      <td>0</td>\n",
       "    </tr>\n",
       "    <tr>\n",
       "      <th>888</th>\n",
       "      <td>889</td>\n",
       "      <td>0</td>\n",
       "      <td>29.699118</td>\n",
       "      <td>1</td>\n",
       "      <td>2</td>\n",
       "      <td>23.4500</td>\n",
       "      <td>0</td>\n",
       "      <td>1</td>\n",
       "      <td>0</td>\n",
       "      <td>1</td>\n",
       "      <td>0</td>\n",
       "    </tr>\n",
       "    <tr>\n",
       "      <th>889</th>\n",
       "      <td>890</td>\n",
       "      <td>1</td>\n",
       "      <td>26.000000</td>\n",
       "      <td>0</td>\n",
       "      <td>0</td>\n",
       "      <td>30.0000</td>\n",
       "      <td>0</td>\n",
       "      <td>0</td>\n",
       "      <td>0</td>\n",
       "      <td>0</td>\n",
       "      <td>1</td>\n",
       "    </tr>\n",
       "    <tr>\n",
       "      <th>890</th>\n",
       "      <td>891</td>\n",
       "      <td>0</td>\n",
       "      <td>32.000000</td>\n",
       "      <td>0</td>\n",
       "      <td>0</td>\n",
       "      <td>7.7500</td>\n",
       "      <td>0</td>\n",
       "      <td>1</td>\n",
       "      <td>1</td>\n",
       "      <td>0</td>\n",
       "      <td>1</td>\n",
       "    </tr>\n",
       "  </tbody>\n",
       "</table>\n",
       "<p>891 rows × 11 columns</p>\n",
       "</div>"
      ],
      "text/plain": [
       "     PassengerId  Survived        Age  SibSp  Parch     Fare  Pclass_2  \\\n",
       "0              1         0  22.000000      1      0   7.2500         0   \n",
       "1              2         1  38.000000      1      0  71.2833         0   \n",
       "2              3         1  26.000000      0      0   7.9250         0   \n",
       "3              4         1  35.000000      1      0  53.1000         0   \n",
       "4              5         0  35.000000      0      0   8.0500         0   \n",
       "..           ...       ...        ...    ...    ...      ...       ...   \n",
       "886          887         0  27.000000      0      0  13.0000         1   \n",
       "887          888         1  19.000000      0      0  30.0000         0   \n",
       "888          889         0  29.699118      1      2  23.4500         0   \n",
       "889          890         1  26.000000      0      0  30.0000         0   \n",
       "890          891         0  32.000000      0      0   7.7500         0   \n",
       "\n",
       "     Pclass_3  Embarked_Q  Embarked_S  Sex_male  \n",
       "0           1           0           1         1  \n",
       "1           0           0           0         0  \n",
       "2           1           0           1         0  \n",
       "3           0           0           1         0  \n",
       "4           1           0           1         1  \n",
       "..        ...         ...         ...       ...  \n",
       "886         0           0           1         1  \n",
       "887         0           0           1         0  \n",
       "888         1           0           1         0  \n",
       "889         0           0           0         1  \n",
       "890         1           1           0         1  \n",
       "\n",
       "[891 rows x 11 columns]"
      ]
     },
     "execution_count": 3,
     "metadata": {},
     "output_type": "execute_result"
    }
   ],
   "source": [
    "df = df.drop([\"Name\", \"Ticket\", \"Cabin\"], axis=1)\n",
    "df[\"Age\"].fillna(df[\"Age\"].mean(), inplace=True)\n",
    "df[\"Embarked\"].fillna(df[\"Embarked\"].mode()[0], inplace=True)\n",
    "df = pd.get_dummies(df, columns=[\"Pclass\",\"Embarked\",\"Sex\"], drop_first=True)\n",
    "df"
   ]
  },
  {
   "cell_type": "code",
   "execution_count": 4,
   "id": "232fc062-38b8-4959-b8ce-7c3fe75d9f0c",
   "metadata": {},
   "outputs": [],
   "source": [
    "X = df.drop(['Survived'], axis=1)\n",
    "y = df['Survived']"
   ]
  },
  {
   "cell_type": "markdown",
   "id": "0571acfc-6dfc-4429-8e35-0b9ddba69e8c",
   "metadata": {},
   "source": [
    "#### Split the data into training and test sets"
   ]
  },
  {
   "cell_type": "code",
   "execution_count": 5,
   "id": "f9e7edb4-26e1-4078-9588-0113a4f9413d",
   "metadata": {},
   "outputs": [],
   "source": [
    "X_train, X_test, y_train, y_test = train_test_split(X, y, test_size=0.25, \n",
    "                                                    shuffle=True, random_state=0)"
   ]
  },
  {
   "cell_type": "markdown",
   "id": "2681083b-92f3-40c1-89b9-0f7c66098459",
   "metadata": {},
   "source": [
    "#### Build the model"
   ]
  },
  {
   "cell_type": "markdown",
   "id": "0600d0f1-aa39-4f79-abe9-f34bdd0a0cb9",
   "metadata": {},
   "source": [
    "Here we have an input layer with 64 neurons, one hidden layer with 16 neurons and finally an output layer with one neuron."
   ]
  },
  {
   "cell_type": "code",
   "execution_count": 6,
   "id": "bce7c8c7-d04e-4fbc-bf3e-5729ef44bba3",
   "metadata": {},
   "outputs": [
    {
     "name": "stderr",
     "output_type": "stream",
     "text": [
      "2023-01-24 16:22:11.598822: I tensorflow/core/platform/cpu_feature_guard.cc:193] This TensorFlow binary is optimized with oneAPI Deep Neural Network Library (oneDNN) to use the following CPU instructions in performance-critical operations:  AVX2 FMA\n",
      "To enable them in other operations, rebuild TensorFlow with the appropriate compiler flags.\n"
     ]
    }
   ],
   "source": [
    "model = Sequential()\n",
    "model.add(Dense(64, activation=\"relu\", input_shape=(X_train.shape[1],)))\n",
    "model.add(Dense(16, activation=\"relu\"))\n",
    "model.add(Dense(1, activation=\"sigmoid\"))\n",
    "model.compile(optimizer=\"adam\", loss=\"binary_crossentropy\", metrics=[\"accuracy\"])"
   ]
  },
  {
   "cell_type": "markdown",
   "id": "dbfb4652-778a-42b8-9cab-7fff099d693b",
   "metadata": {},
   "source": [
    "#### Train the model"
   ]
  },
  {
   "cell_type": "code",
   "execution_count": 7,
   "id": "1cea3821-0aab-4dad-ab85-a2978e68c732",
   "metadata": {},
   "outputs": [
    {
     "name": "stdout",
     "output_type": "stream",
     "text": [
      "Epoch 1/50\n",
      "12/12 [==============================] - 1s 15ms/step - loss: 0.7000 - accuracy: 0.5140 - val_loss: 0.6434 - val_accuracy: 0.7318\n",
      "Epoch 2/50\n",
      "12/12 [==============================] - 0s 3ms/step - loss: 0.6166 - accuracy: 0.7317 - val_loss: 0.5740 - val_accuracy: 0.7765\n",
      "Epoch 3/50\n",
      "12/12 [==============================] - 0s 3ms/step - loss: 0.5606 - accuracy: 0.7921 - val_loss: 0.5249 - val_accuracy: 0.8045\n",
      "Epoch 4/50\n",
      "12/12 [==============================] - 0s 3ms/step - loss: 0.5199 - accuracy: 0.8034 - val_loss: 0.4835 - val_accuracy: 0.8156\n",
      "Epoch 5/50\n",
      "12/12 [==============================] - 0s 3ms/step - loss: 0.4864 - accuracy: 0.8048 - val_loss: 0.4554 - val_accuracy: 0.8268\n",
      "Epoch 6/50\n",
      "12/12 [==============================] - 0s 3ms/step - loss: 0.4636 - accuracy: 0.8104 - val_loss: 0.4338 - val_accuracy: 0.8156\n",
      "Epoch 7/50\n",
      "12/12 [==============================] - 0s 3ms/step - loss: 0.4478 - accuracy: 0.8132 - val_loss: 0.4198 - val_accuracy: 0.8045\n",
      "Epoch 8/50\n",
      "12/12 [==============================] - 0s 3ms/step - loss: 0.4364 - accuracy: 0.8160 - val_loss: 0.4089 - val_accuracy: 0.8156\n",
      "Epoch 9/50\n",
      "12/12 [==============================] - 0s 3ms/step - loss: 0.4293 - accuracy: 0.8132 - val_loss: 0.4044 - val_accuracy: 0.8101\n",
      "Epoch 10/50\n",
      "12/12 [==============================] - 0s 3ms/step - loss: 0.4236 - accuracy: 0.8160 - val_loss: 0.4022 - val_accuracy: 0.8156\n",
      "Epoch 11/50\n",
      "12/12 [==============================] - 0s 3ms/step - loss: 0.4169 - accuracy: 0.8230 - val_loss: 0.3994 - val_accuracy: 0.8101\n",
      "Epoch 12/50\n",
      "12/12 [==============================] - 0s 3ms/step - loss: 0.4128 - accuracy: 0.8216 - val_loss: 0.3977 - val_accuracy: 0.8101\n",
      "Epoch 13/50\n",
      "12/12 [==============================] - 0s 3ms/step - loss: 0.4099 - accuracy: 0.8258 - val_loss: 0.3953 - val_accuracy: 0.8156\n",
      "Epoch 14/50\n",
      "12/12 [==============================] - 0s 3ms/step - loss: 0.4062 - accuracy: 0.8258 - val_loss: 0.3914 - val_accuracy: 0.8268\n",
      "Epoch 15/50\n",
      "12/12 [==============================] - 0s 3ms/step - loss: 0.4025 - accuracy: 0.8357 - val_loss: 0.3880 - val_accuracy: 0.8212\n",
      "Epoch 16/50\n",
      "12/12 [==============================] - 0s 3ms/step - loss: 0.4004 - accuracy: 0.8329 - val_loss: 0.3864 - val_accuracy: 0.8212\n",
      "Epoch 17/50\n",
      "12/12 [==============================] - 0s 3ms/step - loss: 0.3978 - accuracy: 0.8343 - val_loss: 0.3835 - val_accuracy: 0.8212\n",
      "Epoch 18/50\n",
      "12/12 [==============================] - 0s 3ms/step - loss: 0.3952 - accuracy: 0.8399 - val_loss: 0.3843 - val_accuracy: 0.8268\n",
      "Epoch 19/50\n",
      "12/12 [==============================] - 0s 3ms/step - loss: 0.3931 - accuracy: 0.8399 - val_loss: 0.3855 - val_accuracy: 0.8212\n",
      "Epoch 20/50\n",
      "12/12 [==============================] - 0s 3ms/step - loss: 0.3913 - accuracy: 0.8385 - val_loss: 0.3854 - val_accuracy: 0.8212\n",
      "Epoch 21/50\n",
      "12/12 [==============================] - 0s 3ms/step - loss: 0.3892 - accuracy: 0.8385 - val_loss: 0.3868 - val_accuracy: 0.8324\n",
      "Epoch 22/50\n",
      "12/12 [==============================] - 0s 3ms/step - loss: 0.3894 - accuracy: 0.8427 - val_loss: 0.3915 - val_accuracy: 0.8324\n",
      "Epoch 23/50\n",
      "12/12 [==============================] - 0s 3ms/step - loss: 0.3855 - accuracy: 0.8469 - val_loss: 0.3873 - val_accuracy: 0.8436\n",
      "Epoch 24/50\n",
      "12/12 [==============================] - 0s 3ms/step - loss: 0.3841 - accuracy: 0.8455 - val_loss: 0.3877 - val_accuracy: 0.8436\n",
      "Epoch 25/50\n",
      "12/12 [==============================] - 0s 3ms/step - loss: 0.3835 - accuracy: 0.8427 - val_loss: 0.3855 - val_accuracy: 0.8380\n",
      "Epoch 26/50\n",
      "12/12 [==============================] - 0s 3ms/step - loss: 0.3811 - accuracy: 0.8455 - val_loss: 0.3877 - val_accuracy: 0.8436\n",
      "Epoch 27/50\n",
      "12/12 [==============================] - 0s 3ms/step - loss: 0.3792 - accuracy: 0.8455 - val_loss: 0.3875 - val_accuracy: 0.8380\n",
      "Epoch 28/50\n",
      "12/12 [==============================] - 0s 3ms/step - loss: 0.3774 - accuracy: 0.8427 - val_loss: 0.3870 - val_accuracy: 0.8380\n",
      "Epoch 29/50\n",
      "12/12 [==============================] - 0s 3ms/step - loss: 0.3773 - accuracy: 0.8399 - val_loss: 0.3875 - val_accuracy: 0.8268\n",
      "Epoch 30/50\n",
      "12/12 [==============================] - 0s 3ms/step - loss: 0.3771 - accuracy: 0.8413 - val_loss: 0.3902 - val_accuracy: 0.8324\n",
      "Epoch 31/50\n",
      "12/12 [==============================] - 0s 3ms/step - loss: 0.3761 - accuracy: 0.8413 - val_loss: 0.3889 - val_accuracy: 0.8268\n",
      "Epoch 32/50\n",
      "12/12 [==============================] - 0s 3ms/step - loss: 0.3738 - accuracy: 0.8427 - val_loss: 0.3901 - val_accuracy: 0.8380\n",
      "Epoch 33/50\n",
      "12/12 [==============================] - 0s 3ms/step - loss: 0.3735 - accuracy: 0.8441 - val_loss: 0.3896 - val_accuracy: 0.8436\n",
      "Epoch 34/50\n",
      "12/12 [==============================] - 0s 3ms/step - loss: 0.3720 - accuracy: 0.8455 - val_loss: 0.3912 - val_accuracy: 0.8324\n",
      "Epoch 35/50\n",
      "12/12 [==============================] - 0s 3ms/step - loss: 0.3706 - accuracy: 0.8497 - val_loss: 0.3906 - val_accuracy: 0.8380\n",
      "Epoch 36/50\n",
      "12/12 [==============================] - 0s 3ms/step - loss: 0.3695 - accuracy: 0.8469 - val_loss: 0.3927 - val_accuracy: 0.8268\n",
      "Epoch 37/50\n",
      "12/12 [==============================] - 0s 3ms/step - loss: 0.3684 - accuracy: 0.8511 - val_loss: 0.3967 - val_accuracy: 0.8268\n",
      "Epoch 38/50\n",
      "12/12 [==============================] - 0s 3ms/step - loss: 0.3697 - accuracy: 0.8469 - val_loss: 0.3927 - val_accuracy: 0.8380\n",
      "Epoch 39/50\n",
      "12/12 [==============================] - 0s 3ms/step - loss: 0.3670 - accuracy: 0.8539 - val_loss: 0.3928 - val_accuracy: 0.8324\n",
      "Epoch 40/50\n",
      "12/12 [==============================] - 0s 3ms/step - loss: 0.3651 - accuracy: 0.8539 - val_loss: 0.3960 - val_accuracy: 0.8268\n",
      "Epoch 41/50\n",
      "12/12 [==============================] - 0s 3ms/step - loss: 0.3650 - accuracy: 0.8525 - val_loss: 0.3929 - val_accuracy: 0.8268\n",
      "Epoch 42/50\n",
      "12/12 [==============================] - 0s 3ms/step - loss: 0.3647 - accuracy: 0.8567 - val_loss: 0.3912 - val_accuracy: 0.8212\n",
      "Epoch 43/50\n",
      "12/12 [==============================] - 0s 3ms/step - loss: 0.3628 - accuracy: 0.8539 - val_loss: 0.3899 - val_accuracy: 0.8268\n",
      "Epoch 44/50\n",
      "12/12 [==============================] - 0s 3ms/step - loss: 0.3620 - accuracy: 0.8525 - val_loss: 0.3905 - val_accuracy: 0.8268\n",
      "Epoch 45/50\n",
      "12/12 [==============================] - 0s 3ms/step - loss: 0.3611 - accuracy: 0.8539 - val_loss: 0.3918 - val_accuracy: 0.8212\n",
      "Epoch 46/50\n",
      "12/12 [==============================] - 0s 3ms/step - loss: 0.3603 - accuracy: 0.8497 - val_loss: 0.3901 - val_accuracy: 0.8156\n",
      "Epoch 47/50\n",
      "12/12 [==============================] - 0s 3ms/step - loss: 0.3639 - accuracy: 0.8511 - val_loss: 0.3892 - val_accuracy: 0.8380\n",
      "Epoch 48/50\n",
      "12/12 [==============================] - 0s 3ms/step - loss: 0.3649 - accuracy: 0.8525 - val_loss: 0.3866 - val_accuracy: 0.8156\n",
      "Epoch 49/50\n",
      "12/12 [==============================] - 0s 3ms/step - loss: 0.3622 - accuracy: 0.8483 - val_loss: 0.3903 - val_accuracy: 0.8324\n",
      "Epoch 50/50\n",
      "12/12 [==============================] - 0s 3ms/step - loss: 0.3586 - accuracy: 0.8553 - val_loss: 0.3991 - val_accuracy: 0.8212\n"
     ]
    },
    {
     "data": {
      "text/plain": [
       "<keras.callbacks.History at 0x7f84fd4ecfa0>"
      ]
     },
     "execution_count": 7,
     "metadata": {},
     "output_type": "execute_result"
    }
   ],
   "source": [
    "model.fit(X_train, y_train, epochs=50, batch_size=64, validation_data=(X_test, y_test))"
   ]
  },
  {
   "cell_type": "markdown",
   "id": "3e1eaa2e-9b19-4ea8-8d32-ad2390d607df",
   "metadata": {},
   "source": [
    "#### The scores of train and test"
   ]
  },
  {
   "cell_type": "code",
   "execution_count": 8,
   "id": "0fc047f9-6bf5-4ac8-898a-beab7947b12e",
   "metadata": {},
   "outputs": [],
   "source": [
    "score = model.evaluate(X_train, y_train, verbose=0)"
   ]
  },
  {
   "cell_type": "code",
   "execution_count": 9,
   "id": "b64dc35b-769a-49ae-a365-adf5d8cdf595",
   "metadata": {},
   "outputs": [
    {
     "name": "stdout",
     "output_type": "stream",
     "text": [
      "Train accuracy: 0.8567415475845337\n"
     ]
    }
   ],
   "source": [
    "accuracy = score[1]\n",
    "print(\"Train accuracy:\", accuracy)"
   ]
  },
  {
   "cell_type": "code",
   "execution_count": 10,
   "id": "015b9ac7-36aa-42a1-a57d-0fbd49f40982",
   "metadata": {},
   "outputs": [],
   "source": [
    "score = model.evaluate(X_test, y_test, verbose=0)"
   ]
  },
  {
   "cell_type": "code",
   "execution_count": 11,
   "id": "31ea44c9-f13b-4af5-b6a5-ccd80d81550c",
   "metadata": {},
   "outputs": [
    {
     "name": "stdout",
     "output_type": "stream",
     "text": [
      "Test accuracy: 0.8212290406227112\n"
     ]
    }
   ],
   "source": [
    "accuracy = score[1]\n",
    "print(\"Test accuracy:\", accuracy)"
   ]
  },
  {
   "cell_type": "code",
   "execution_count": null,
   "id": "bba79d3a-0294-431a-a8a8-4bd22f9e889b",
   "metadata": {},
   "outputs": [],
   "source": []
  }
 ],
 "metadata": {
  "kernelspec": {
   "display_name": "Python 3 (ipykernel)",
   "language": "python",
   "name": "python3"
  },
  "language_info": {
   "codemirror_mode": {
    "name": "ipython",
    "version": 3
   },
   "file_extension": ".py",
   "mimetype": "text/x-python",
   "name": "python",
   "nbconvert_exporter": "python",
   "pygments_lexer": "ipython3",
   "version": "3.9.15"
  }
 },
 "nbformat": 4,
 "nbformat_minor": 5
}
