{
 "cells": [
  {
   "cell_type": "code",
   "execution_count": 1,
   "id": "12c4c83b-fd4c-4da3-ba35-ab6e6b6ce858",
   "metadata": {},
   "outputs": [],
   "source": [
    "import numpy as np\n",
    "import pandas as pd\n",
    "from keras.models import Sequential\n",
    "from keras.layers import Dense, LSTM\n",
    "from sklearn.preprocessing import MinMaxScaler"
   ]
  },
  {
   "cell_type": "code",
   "execution_count": 2,
   "id": "c46082c0-f35f-4b15-bcad-77044fbc7ea5",
   "metadata": {},
   "outputs": [
    {
     "data": {
      "text/html": [
       "<div>\n",
       "<style scoped>\n",
       "    .dataframe tbody tr th:only-of-type {\n",
       "        vertical-align: middle;\n",
       "    }\n",
       "\n",
       "    .dataframe tbody tr th {\n",
       "        vertical-align: top;\n",
       "    }\n",
       "\n",
       "    .dataframe thead th {\n",
       "        text-align: right;\n",
       "    }\n",
       "</style>\n",
       "<table border=\"1\" class=\"dataframe\">\n",
       "  <thead>\n",
       "    <tr style=\"text-align: right;\">\n",
       "      <th></th>\n",
       "      <th>Datetime</th>\n",
       "      <th>DOM_MW</th>\n",
       "    </tr>\n",
       "  </thead>\n",
       "  <tbody>\n",
       "    <tr>\n",
       "      <th>0</th>\n",
       "      <td>2005-12-31 01:00:00</td>\n",
       "      <td>9389.0</td>\n",
       "    </tr>\n",
       "    <tr>\n",
       "      <th>1</th>\n",
       "      <td>2005-12-31 02:00:00</td>\n",
       "      <td>9070.0</td>\n",
       "    </tr>\n",
       "    <tr>\n",
       "      <th>2</th>\n",
       "      <td>2005-12-31 03:00:00</td>\n",
       "      <td>9001.0</td>\n",
       "    </tr>\n",
       "    <tr>\n",
       "      <th>3</th>\n",
       "      <td>2005-12-31 04:00:00</td>\n",
       "      <td>9042.0</td>\n",
       "    </tr>\n",
       "    <tr>\n",
       "      <th>4</th>\n",
       "      <td>2005-12-31 05:00:00</td>\n",
       "      <td>9132.0</td>\n",
       "    </tr>\n",
       "    <tr>\n",
       "      <th>...</th>\n",
       "      <td>...</td>\n",
       "      <td>...</td>\n",
       "    </tr>\n",
       "    <tr>\n",
       "      <th>116184</th>\n",
       "      <td>2018-01-01 20:00:00</td>\n",
       "      <td>18418.0</td>\n",
       "    </tr>\n",
       "    <tr>\n",
       "      <th>116185</th>\n",
       "      <td>2018-01-01 21:00:00</td>\n",
       "      <td>18567.0</td>\n",
       "    </tr>\n",
       "    <tr>\n",
       "      <th>116186</th>\n",
       "      <td>2018-01-01 22:00:00</td>\n",
       "      <td>18307.0</td>\n",
       "    </tr>\n",
       "    <tr>\n",
       "      <th>116187</th>\n",
       "      <td>2018-01-01 23:00:00</td>\n",
       "      <td>17814.0</td>\n",
       "    </tr>\n",
       "    <tr>\n",
       "      <th>116188</th>\n",
       "      <td>2018-01-02 00:00:00</td>\n",
       "      <td>17428.0</td>\n",
       "    </tr>\n",
       "  </tbody>\n",
       "</table>\n",
       "<p>116189 rows × 2 columns</p>\n",
       "</div>"
      ],
      "text/plain": [
       "                   Datetime   DOM_MW\n",
       "0       2005-12-31 01:00:00   9389.0\n",
       "1       2005-12-31 02:00:00   9070.0\n",
       "2       2005-12-31 03:00:00   9001.0\n",
       "3       2005-12-31 04:00:00   9042.0\n",
       "4       2005-12-31 05:00:00   9132.0\n",
       "...                     ...      ...\n",
       "116184  2018-01-01 20:00:00  18418.0\n",
       "116185  2018-01-01 21:00:00  18567.0\n",
       "116186  2018-01-01 22:00:00  18307.0\n",
       "116187  2018-01-01 23:00:00  17814.0\n",
       "116188  2018-01-02 00:00:00  17428.0\n",
       "\n",
       "[116189 rows x 2 columns]"
      ]
     },
     "execution_count": 2,
     "metadata": {},
     "output_type": "execute_result"
    }
   ],
   "source": [
    "# Load the dataset\n",
    "url = 'https://raw.githubusercontent.com/Apress/artificial-neural-networks-with-tensorflow-2/main/ch11/DOM_hourly.csv'\n",
    "df = pd.read_csv(url)\n",
    "df"
   ]
  },
  {
   "cell_type": "code",
   "execution_count": 3,
   "id": "a0022634-bfc6-4ba0-9074-3bd1efc159f1",
   "metadata": {},
   "outputs": [],
   "source": [
    "# Extract the values of the time series\n",
    "values = df[\"DOM_MW\"].values"
   ]
  },
  {
   "cell_type": "code",
   "execution_count": 4,
   "id": "98dc9aa8-3107-40a5-8568-dbb6b0d4d98f",
   "metadata": {},
   "outputs": [],
   "source": [
    "# Normalize the data using a MinMaxScaler\n",
    "scaler = MinMaxScaler(feature_range=(0, 1))\n",
    "values = scaler.fit_transform(values.reshape(-1, 1))"
   ]
  },
  {
   "cell_type": "code",
   "execution_count": 5,
   "id": "f0f205a1-1917-4164-9d4b-46bb43d01c49",
   "metadata": {},
   "outputs": [],
   "source": [
    "# Define the length of the training sequence\n",
    "seq_length = 24 * 7"
   ]
  },
  {
   "cell_type": "code",
   "execution_count": 6,
   "id": "33be26fe-3f51-42e7-b236-e7f874851742",
   "metadata": {},
   "outputs": [],
   "source": [
    "# Split the data into training and testing sets\n",
    "train_size = int(len(values) * 0.7)\n",
    "train = values[:train_size]\n",
    "test = values[train_size:]"
   ]
  },
  {
   "cell_type": "code",
   "execution_count": 7,
   "id": "099a308f-5cd9-4119-824c-fd3ffc898e33",
   "metadata": {},
   "outputs": [],
   "source": [
    "# Create sequences of input/output pairs\n",
    "def create_sequences(data, seq_length):\n",
    "    X = []\n",
    "    y = []\n",
    "    for i in range(len(data)-seq_length-1):\n",
    "        X.append(data[i:(i+seq_length), 0])\n",
    "        y.append(data[i+seq_length, 0])\n",
    "    return np.array(X), np.array(y)"
   ]
  },
  {
   "cell_type": "code",
   "execution_count": 8,
   "id": "484c2454-bc30-43cf-b0c3-4744ecd9f994",
   "metadata": {},
   "outputs": [],
   "source": [
    "train_X, train_y = create_sequences(train, seq_length)\n",
    "test_X, test_y = create_sequences(test, seq_length)"
   ]
  },
  {
   "cell_type": "code",
   "execution_count": 9,
   "id": "ace62bc6-f06c-4322-9328-fc8d8cbcfe07",
   "metadata": {},
   "outputs": [],
   "source": [
    "# Reshape the data to match the input shape of the LSTM\n",
    "train_X = np.reshape(train_X, (train_X.shape[0], train_X.shape[1], 1))\n",
    "test_X = np.reshape(test_X, (test_X.shape[0], test_X.shape[1], 1))"
   ]
  },
  {
   "cell_type": "code",
   "execution_count": 10,
   "id": "562da093-fb07-407e-ad70-209277afe91f",
   "metadata": {},
   "outputs": [
    {
     "name": "stderr",
     "output_type": "stream",
     "text": [
      "2023-02-16 11:19:51.024155: I tensorflow/core/platform/cpu_feature_guard.cc:193] This TensorFlow binary is optimized with oneAPI Deep Neural Network Library (oneDNN) to use the following CPU instructions in performance-critical operations:  AVX2 FMA\n",
      "To enable them in other operations, rebuild TensorFlow with the appropriate compiler flags.\n"
     ]
    }
   ],
   "source": [
    "# Define the LSTM model\n",
    "model = Sequential()\n",
    "model.add(LSTM(50, input_shape=(seq_length, 1)))\n",
    "model.add(Dense(1))\n",
    "model.compile(loss='mean_squared_error', optimizer='adam')"
   ]
  },
  {
   "cell_type": "code",
   "execution_count": 11,
   "id": "8999f5b7-2fbf-4697-be43-c1c443034504",
   "metadata": {},
   "outputs": [
    {
     "name": "stdout",
     "output_type": "stream",
     "text": [
      "Epoch 1/10\n",
      "1269/1269 [==============================] - 90s 70ms/step - loss: 0.0033\n",
      "Epoch 2/10\n",
      "1269/1269 [==============================] - 94s 74ms/step - loss: 5.4990e-04\n",
      "Epoch 3/10\n",
      "1269/1269 [==============================] - 95s 75ms/step - loss: 3.5566e-04\n",
      "Epoch 4/10\n",
      "1269/1269 [==============================] - 97s 76ms/step - loss: 3.2531e-04\n",
      "Epoch 5/10\n",
      "1269/1269 [==============================] - 101s 80ms/step - loss: 2.9784e-04\n",
      "Epoch 6/10\n",
      "1269/1269 [==============================] - 99s 78ms/step - loss: 2.8456e-04\n",
      "Epoch 7/10\n",
      "1269/1269 [==============================] - 98s 77ms/step - loss: 2.7469e-04\n",
      "Epoch 8/10\n",
      "1269/1269 [==============================] - 96s 76ms/step - loss: 2.6303e-04\n",
      "Epoch 9/10\n",
      "1269/1269 [==============================] - 95s 75ms/step - loss: 2.5702e-04\n",
      "Epoch 10/10\n",
      "1269/1269 [==============================] - 96s 76ms/step - loss: 2.4489e-04\n"
     ]
    },
    {
     "data": {
      "text/plain": [
       "<keras.callbacks.History at 0x7f9f99f6aca0>"
      ]
     },
     "execution_count": 11,
     "metadata": {},
     "output_type": "execute_result"
    }
   ],
   "source": [
    "# Train the model\n",
    "model.fit(train_X, train_y, epochs=10, batch_size=64, verbose=1)"
   ]
  },
  {
   "cell_type": "code",
   "execution_count": 12,
   "id": "f77b3b6d-f3e1-480e-a7ca-e7a2b1eadbfe",
   "metadata": {},
   "outputs": [
    {
     "name": "stdout",
     "output_type": "stream",
     "text": [
      "1084/1084 [==============================] - 17s 15ms/step\n"
     ]
    }
   ],
   "source": [
    "# Make predictions on the testing data\n",
    "predictions = model.predict(test_X)"
   ]
  },
  {
   "cell_type": "code",
   "execution_count": 13,
   "id": "67014d4e-6333-40fa-bbb9-e97bb999ae71",
   "metadata": {},
   "outputs": [],
   "source": [
    "# Inverse transform the predictions and actual values to get back to the original scale\n",
    "predictions = scaler.inverse_transform(predictions)\n",
    "test_y = scaler.inverse_transform(test_y.reshape(-1, 1))"
   ]
  },
  {
   "cell_type": "code",
   "execution_count": 14,
   "id": "cf75c6be-74ae-4a69-820e-57255dedcb12",
   "metadata": {},
   "outputs": [],
   "source": [
    "import matplotlib.pyplot as plt"
   ]
  },
  {
   "cell_type": "code",
   "execution_count": 15,
   "id": "5198faba-f19a-4c01-b7a2-aad0921cad2d",
   "metadata": {},
   "outputs": [
    {
     "data": {
      "image/png": "[encoded data removed]",
      "text/plain": [
       "<Figure size 640x480 with 1 Axes>"
      ]
     },
     "metadata": {},
     "output_type": "display_data"
    }
   ],
   "source": [
    "# Plot the predicted and actual values\n",
    "plt.plot(predictions, label=\"Predicted\")\n",
    "plt.plot(test_y, label=\"Actual\")\n",
    "plt.legend()\n",
    "plt.show()"
   ]
  },
  {
   "cell_type": "code",
   "execution_count": 16,
   "id": "6323b491-7e3f-447c-a02f-f10eadc296fe",
   "metadata": {},
   "outputs": [
    {
     "name": "stdout",
     "output_type": "stream",
     "text": [
      "RMSE:  379.0226996176824\n"
     ]
    }
   ],
   "source": [
    "# Print the root mean squared error (RMSE)\n",
    "rmse = np.sqrt(np.mean((predictions - test_y) ** 2))\n",
    "print(\"RMSE: \", rmse)"
   ]
  },
  {
   "cell_type": "code",
   "execution_count": 17,
   "id": "19a85295-a56a-4451-809a-a96578d53a28",
   "metadata": {},
   "outputs": [],
   "source": [
    "from sklearn.metrics import r2_score"
   ]
  },
  {
   "cell_type": "code",
   "execution_count": 18,
   "id": "77df11ba-0200-41f4-96b6-8727deeab3a3",
   "metadata": {},
   "outputs": [
    {
     "name": "stdout",
     "output_type": "stream",
     "text": [
      "Testing set R-squared score: 0.9773008551694842\n"
     ]
    }
   ],
   "source": [
    "# Calculate the R-squared score\n",
    "r2 = r2_score(test_y, predictions)\n",
    "print(f'Testing set R-squared score: {r2}')"
   ]
  },
  {
   "cell_type": "code",
   "execution_count": null,
   "id": "f538939f-9406-46f9-b4dd-e7639ccc8baa",
   "metadata": {},
   "outputs": [],
   "source": []
  }
 ],
 "metadata": {
  "kernelspec": {
   "display_name": "Python 3 (ipykernel)",
   "language": "python",
   "name": "python3"
  },
  "language_info": {
   "codemirror_mode": {
    "name": "ipython",
    "version": 3
   },
   "file_extension": ".py",
   "mimetype": "text/x-python",
   "name": "python",
   "nbconvert_exporter": "python",
   "pygments_lexer": "ipython3",
   "version": "3.9.16"
  }
 },
 "nbformat": 4,
 "nbformat_minor": 5
}
